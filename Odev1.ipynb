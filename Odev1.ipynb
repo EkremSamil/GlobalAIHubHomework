{
 "cells": [
  {
   "cell_type": "code",
   "execution_count": 7,
   "metadata": {},
   "outputs": [
    {
     "name": "stdout",
     "output_type": "stream",
     "text": [
      "Lütfen Bir String Değer Giriniz : a\n",
      "Lütfen Bir Tam sayı Değeri Giriniz : 10\n",
      "Lütfen Bir Ondalıklı Değer Giriniz : 13.5\n",
      "Lütfen Bir Bool Değer Giriniz : true\n",
      "Lütfen Bir Karmaşık Sayı Değeri Giriniz : 28\n",
      "Girdiğiniz Değer : a  O Değerin Tipi : <class 'str'>\n",
      "Girdiğiniz Değer : 10  O Değerin Tipi : <class 'int'>\n",
      "Girdiğiniz Değer : 13.5  O Değerin Tipi : <class 'float'>\n",
      "Girdiğiniz Değer : True  O Değerin Tipi : <class 'bool'>\n",
      "Girdiğiniz Değer : (28+0j)  O Değerin Tipi : <class 'complex'>\n",
      "Program Sonlandırılmıştır\n"
     ]
    }
   ],
   "source": [
    "a = str(input(\"Lütfen Bir String Değer Giriniz : \"))\n",
    "b = int(input(\"Lütfen Bir Tam sayı Değeri Giriniz : \"))\n",
    "c = float(input(\"Lütfen Bir Ondalıklı Değer Giriniz : \"))\n",
    "d = bool(input(\"Lütfen Bir Bool Değer Giriniz : \"))\n",
    "e =complex(input(\"Lütfen Bir Karmaşık Sayı Değeri Giriniz : \"))\n",
    "\n",
    "print(\"Girdiğiniz Değer : {}  O Değerin Tipi : {}\".format(a,type(a)))\n",
    "print(\"Girdiğiniz Değer : {}  O Değerin Tipi : {}\".format(b,type(b)))\n",
    "print(\"Girdiğiniz Değer : {}  O Değerin Tipi : {}\".format(c,type(c)))\n",
    "print(\"Girdiğiniz Değer : {}  O Değerin Tipi : {}\".format(d,type(d)))\n",
    "print(\"Girdiğiniz Değer : {}  O Değerin Tipi : {}\".format(e,type(e)))\n",
    "\n",
    "son = \"Sonlandırılmıştır\"\n",
    "print(f'Program {son}')"
   ]
  },
  {
   "cell_type": "code",
   "execution_count": null,
   "metadata": {},
   "outputs": [],
   "source": []
  },
  {
   "cell_type": "code",
   "execution_count": null,
   "metadata": {},
   "outputs": [],
   "source": []
  }
 ],
 "metadata": {
  "kernelspec": {
   "display_name": "Python 3",
   "language": "python",
   "name": "python3"
  },
  "language_info": {
   "codemirror_mode": {
    "name": "ipython",
    "version": 3
   },
   "file_extension": ".py",
   "mimetype": "text/x-python",
   "name": "python",
   "nbconvert_exporter": "python",
   "pygments_lexer": "ipython3",
   "version": "3.7.4"
  }
 },
 "nbformat": 4,
 "nbformat_minor": 2
}
