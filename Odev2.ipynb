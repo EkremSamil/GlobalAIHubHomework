{
 "cells": [
  {
   "cell_type": "code",
   "execution_count": 5,
   "metadata": {},
   "outputs": [
    {
     "name": "stdout",
     "output_type": "stream",
     "text": [
      "Lütfen İsminizi Giriniz : Ekrem Samil\n",
      "Lütfen Soyisminizi Giriniz : Bolat\n",
      "Lütfen Yaşınızı Giriniz : 20\n",
      "Lüttfen Doğum Yılınızı Giriniz : 2000\n",
      "You can go out to the street\n"
     ]
    }
   ],
   "source": [
    "bilgi =[]\n",
    "\n",
    "ad = input(\"Lütfen İsminizi Giriniz : \")\n",
    "soyad = input(\"Lütfen Soyisminizi Giriniz : \")\n",
    "yas  = int(input(\"Lütfen Yaşınızı Giriniz : \"))\n",
    "dogum = int(input(\"Lüttfen Doğum Yılınızı Giriniz : \"))\n",
    "\n",
    "liste.append(ad)\n",
    "liste.append(soyad)\n",
    "liste.append(yas)\n",
    "liste.append(dogum)\n",
    "\n",
    "for i in bilgi:\n",
    "    print(i)\n",
    "\n",
    "\n",
    "if yas > 18:\n",
    "    print(\"You can go out to the street\")\n",
    "\n",
    "elif yas < 18:\n",
    "    print(\"You can't go out because it's so dangerous\")\n",
    "\n",
    "else:\n",
    "    print(\"Geçersiz Değer.\")"
   ]
  },
  {
   "cell_type": "code",
   "execution_count": null,
   "metadata": {},
   "outputs": [],
   "source": []
  }
 ],
 "metadata": {
  "kernelspec": {
   "display_name": "Python 3",
   "language": "python",
   "name": "python3"
  },
  "language_info": {
   "codemirror_mode": {
    "name": "ipython",
    "version": 3
   },
   "file_extension": ".py",
   "mimetype": "text/x-python",
   "name": "python",
   "nbconvert_exporter": "python",
   "pygments_lexer": "ipython3",
   "version": "3.7.4"
  }
 },
 "nbformat": 4,
 "nbformat_minor": 2
}
